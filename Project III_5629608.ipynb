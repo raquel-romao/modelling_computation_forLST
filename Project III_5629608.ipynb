{
 "cells": [
  {
   "cell_type": "markdown",
   "id": "3234c2b9",
   "metadata": {},
   "source": [
    "## LM3331 INDIVIDUAL PROJECT III: Optimization\n",
    "\n",
    "**TU Delft**<br>\n",
    "**Q1 2021**<br>\n",
    "**Modelling and Computation for Life Science and Technology**<br>\n",
    "\n",
    "**Done by:** Raquel Romão, student number 5629608\n",
    "\n",
    "\n",
    "---"
   ]
  },
  {
   "cell_type": "markdown",
   "id": "426d868a",
   "metadata": {},
   "source": [
    "#### Data management"
   ]
  },
  {
   "cell_type": "code",
   "execution_count": 1,
   "id": "ab31c3f9",
   "metadata": {},
   "outputs": [],
   "source": [
    "#To import the necessary libraries\n",
    "import numpy as np\n",
    "import pandas as pd\n",
    "from scipy.integrate import solve_ivp\n",
    "import matplotlib.pyplot as plt\n",
    "from scipy.optimize import minimize, minimize_scalar"
   ]
  },
  {
   "cell_type": "code",
   "execution_count": 2,
   "id": "3db2d40f",
   "metadata": {},
   "outputs": [
    {
     "data": {
      "text/html": [
       "<div>\n",
       "<style scoped>\n",
       "    .dataframe tbody tr th:only-of-type {\n",
       "        vertical-align: middle;\n",
       "    }\n",
       "\n",
       "    .dataframe tbody tr th {\n",
       "        vertical-align: top;\n",
       "    }\n",
       "\n",
       "    .dataframe thead th {\n",
       "        text-align: right;\n",
       "    }\n",
       "</style>\n",
       "<table border=\"1\" class=\"dataframe\">\n",
       "  <thead>\n",
       "    <tr style=\"text-align: right;\">\n",
       "      <th></th>\n",
       "      <th>t(min)</th>\n",
       "      <th>N2O(mM)</th>\n",
       "    </tr>\n",
       "  </thead>\n",
       "  <tbody>\n",
       "    <tr>\n",
       "      <th>0</th>\n",
       "      <td>0</td>\n",
       "      <td>0.355610</td>\n",
       "    </tr>\n",
       "    <tr>\n",
       "      <th>1</th>\n",
       "      <td>1</td>\n",
       "      <td>0.339490</td>\n",
       "    </tr>\n",
       "    <tr>\n",
       "      <th>2</th>\n",
       "      <td>2</td>\n",
       "      <td>0.323284</td>\n",
       "    </tr>\n",
       "    <tr>\n",
       "      <th>3</th>\n",
       "      <td>3</td>\n",
       "      <td>0.307863</td>\n",
       "    </tr>\n",
       "    <tr>\n",
       "      <th>4</th>\n",
       "      <td>4</td>\n",
       "      <td>0.293307</td>\n",
       "    </tr>\n",
       "    <tr>\n",
       "      <th>5</th>\n",
       "      <td>5</td>\n",
       "      <td>0.279211</td>\n",
       "    </tr>\n",
       "    <tr>\n",
       "      <th>6</th>\n",
       "      <td>6</td>\n",
       "      <td>0.265676</td>\n",
       "    </tr>\n",
       "    <tr>\n",
       "      <th>7</th>\n",
       "      <td>7</td>\n",
       "      <td>0.252332</td>\n",
       "    </tr>\n",
       "    <tr>\n",
       "      <th>8</th>\n",
       "      <td>8</td>\n",
       "      <td>0.239519</td>\n",
       "    </tr>\n",
       "    <tr>\n",
       "      <th>9</th>\n",
       "      <td>9</td>\n",
       "      <td>0.226673</td>\n",
       "    </tr>\n",
       "    <tr>\n",
       "      <th>10</th>\n",
       "      <td>10</td>\n",
       "      <td>0.214312</td>\n",
       "    </tr>\n",
       "    <tr>\n",
       "      <th>11</th>\n",
       "      <td>11</td>\n",
       "      <td>0.202075</td>\n",
       "    </tr>\n",
       "    <tr>\n",
       "      <th>12</th>\n",
       "      <td>12</td>\n",
       "      <td>0.190097</td>\n",
       "    </tr>\n",
       "    <tr>\n",
       "      <th>13</th>\n",
       "      <td>13</td>\n",
       "      <td>0.177883</td>\n",
       "    </tr>\n",
       "    <tr>\n",
       "      <th>14</th>\n",
       "      <td>14</td>\n",
       "      <td>0.166048</td>\n",
       "    </tr>\n",
       "    <tr>\n",
       "      <th>15</th>\n",
       "      <td>15</td>\n",
       "      <td>0.154310</td>\n",
       "    </tr>\n",
       "    <tr>\n",
       "      <th>16</th>\n",
       "      <td>16</td>\n",
       "      <td>0.142679</td>\n",
       "    </tr>\n",
       "    <tr>\n",
       "      <th>17</th>\n",
       "      <td>17</td>\n",
       "      <td>0.131227</td>\n",
       "    </tr>\n",
       "    <tr>\n",
       "      <th>18</th>\n",
       "      <td>18</td>\n",
       "      <td>0.119833</td>\n",
       "    </tr>\n",
       "    <tr>\n",
       "      <th>19</th>\n",
       "      <td>19</td>\n",
       "      <td>0.108311</td>\n",
       "    </tr>\n",
       "    <tr>\n",
       "      <th>20</th>\n",
       "      <td>20</td>\n",
       "      <td>0.097086</td>\n",
       "    </tr>\n",
       "    <tr>\n",
       "      <th>21</th>\n",
       "      <td>21</td>\n",
       "      <td>0.085674</td>\n",
       "    </tr>\n",
       "    <tr>\n",
       "      <th>22</th>\n",
       "      <td>22</td>\n",
       "      <td>0.074204</td>\n",
       "    </tr>\n",
       "    <tr>\n",
       "      <th>23</th>\n",
       "      <td>23</td>\n",
       "      <td>0.062812</td>\n",
       "    </tr>\n",
       "    <tr>\n",
       "      <th>24</th>\n",
       "      <td>24</td>\n",
       "      <td>0.051618</td>\n",
       "    </tr>\n",
       "    <tr>\n",
       "      <th>25</th>\n",
       "      <td>25</td>\n",
       "      <td>0.040505</td>\n",
       "    </tr>\n",
       "    <tr>\n",
       "      <th>26</th>\n",
       "      <td>26</td>\n",
       "      <td>0.029166</td>\n",
       "    </tr>\n",
       "    <tr>\n",
       "      <th>27</th>\n",
       "      <td>27</td>\n",
       "      <td>0.018065</td>\n",
       "    </tr>\n",
       "    <tr>\n",
       "      <th>28</th>\n",
       "      <td>28</td>\n",
       "      <td>0.007362</td>\n",
       "    </tr>\n",
       "    <tr>\n",
       "      <th>29</th>\n",
       "      <td>29</td>\n",
       "      <td>0.001474</td>\n",
       "    </tr>\n",
       "  </tbody>\n",
       "</table>\n",
       "</div>"
      ],
      "text/plain": [
       "    t(min)   N2O(mM)\n",
       "0        0  0.355610\n",
       "1        1  0.339490\n",
       "2        2  0.323284\n",
       "3        3  0.307863\n",
       "4        4  0.293307\n",
       "5        5  0.279211\n",
       "6        6  0.265676\n",
       "7        7  0.252332\n",
       "8        8  0.239519\n",
       "9        9  0.226673\n",
       "10      10  0.214312\n",
       "11      11  0.202075\n",
       "12      12  0.190097\n",
       "13      13  0.177883\n",
       "14      14  0.166048\n",
       "15      15  0.154310\n",
       "16      16  0.142679\n",
       "17      17  0.131227\n",
       "18      18  0.119833\n",
       "19      19  0.108311\n",
       "20      20  0.097086\n",
       "21      21  0.085674\n",
       "22      22  0.074204\n",
       "23      23  0.062812\n",
       "24      24  0.051618\n",
       "25      25  0.040505\n",
       "26      26  0.029166\n",
       "27      27  0.018065\n",
       "28      28  0.007362\n",
       "29      29  0.001474"
      ]
     },
     "execution_count": 2,
     "metadata": {},
     "output_type": "execute_result"
    }
   ],
   "source": [
    "#To import the data from the excel file in 'data' folder\n",
    "d = 'data/Data_N2O.xlsx'\n",
    "\n",
    "exp_data = pd.read_excel(d)\n",
    "exp_data"
   ]
  },
  {
   "cell_type": "code",
   "execution_count": 3,
   "id": "0ef2a4fa",
   "metadata": {},
   "outputs": [
    {
     "data": {
      "text/plain": [
       "array([ 0,  1,  2,  3,  4,  5,  6,  7,  8,  9, 10, 11, 12, 13, 14, 15, 16,\n",
       "       17, 18, 19, 20, 21, 22, 23, 24, 25, 26, 27, 28, 29], dtype=int64)"
      ]
     },
     "execution_count": 3,
     "metadata": {},
     "output_type": "execute_result"
    }
   ],
   "source": [
    "#Converts the set of values for the experimental time to a numpy array\n",
    "time = exp_data['t(min)'].to_numpy()\n",
    "time"
   ]
  },
  {
   "cell_type": "code",
   "execution_count": 4,
   "id": "e17db78d",
   "metadata": {
    "scrolled": false
   },
   "outputs": [
    {
     "data": {
      "text/plain": [
       "array([0.35561013, 0.33948976, 0.32328354, 0.30786321, 0.2933068 ,\n",
       "       0.27921084, 0.265676  , 0.25233159, 0.23951942, 0.22667291,\n",
       "       0.21431182, 0.20207483, 0.19009693, 0.17788334, 0.16604826,\n",
       "       0.15430995, 0.14267872, 0.13122651, 0.11983315, 0.10831086,\n",
       "       0.09708591, 0.08567366, 0.07420444, 0.06281217, 0.05161812,\n",
       "       0.04050478, 0.02916589, 0.01806471, 0.00736249, 0.00147351])"
      ]
     },
     "execution_count": 4,
     "metadata": {},
     "output_type": "execute_result"
    }
   ],
   "source": [
    "#Converts the set of values for the experimental N2O concentration to a numpy array\n",
    "C_N2O = exp_data['N2O(mM)'].to_numpy()\n",
    "C_N2O"
   ]
  },
  {
   "cell_type": "markdown",
   "id": "ab9abc9a",
   "metadata": {},
   "source": [
    "#### Initial values to use"
   ]
  },
  {
   "cell_type": "code",
   "execution_count": 6,
   "id": "97774aa6",
   "metadata": {},
   "outputs": [
    {
     "data": {
      "image/png": "[encoded data removed]",
      "text/plain": [
       "<Figure size 432x288 with 1 Axes>"
      ]
     },
     "metadata": {
      "needs_background": "light"
     },
     "output_type": "display_data"
    }
   ],
   "source": [
    "plt.scatter(time, C_N2O)\n",
    "\n",
    "plt.title('Progress of the experimental N2O concentrations')\n",
    "\n",
    "plt.xlabel('Time (min)')\n",
    "\n",
    "plt.ylabel('Concentration (L.mol$^{-1}$)')\n",
    "\n",
    "plt.show()"
   ]
  },
  {
   "cell_type": "markdown",
   "id": "e160ce24",
   "metadata": {},
   "source": [
    "In order to predict which initial value should I use to determine r, I ploted the experimental data and determined the slope between the two first points, for which saturation is assumed and rT=0, since dC/dt = r + rT."
   ]
  },
  {
   "cell_type": "code",
   "execution_count": 7,
   "id": "747846f5",
   "metadata": {},
   "outputs": [
    {
     "name": "stdout",
     "output_type": "stream",
     "text": [
      "Inicial value for r: -0.01612037210463843\n"
     ]
    }
   ],
   "source": [
    "slope, intercept = np.polyfit([time[0], time[1]], [C_N2O[0], C_N2O[1]], 1) #for the first two points\n",
    "print(\"Inicial value for r:\", slope) #to use as the inicial value for r (assuming that rT=0)"
   ]
  },
  {
   "cell_type": "markdown",
   "id": "f0bebff9",
   "metadata": {},
   "source": [
    "Similarly, assuming that in the beginning of the simulation the system is saturated (and therefore, rT = 0), we can calculate the initial value for the concentration of N2O in the gas phase from the experimental data. For the initial concentration of N2O in the liquid phase I chose to use the experimental data for t = 0."
   ]
  },
  {
   "cell_type": "code",
   "execution_count": 8,
   "id": "217ddbb2",
   "metadata": {},
   "outputs": [],
   "source": [
    "KH = 27.05 #mM/atm\n",
    "p = 1 #atm\n",
    "R = 8.206e-5 #L.atm/(K.mmol)\n",
    "T = 293.15 #K\n",
    "kLa = 5/60 #1/min (the time in the dataset is in minutes)\n",
    "VL = 2 #L\n",
    "VG = 1 #L\n",
    "\n",
    "t_span = [time[0], time[-1]] #the same time as the experimental data\n",
    "\n",
    "y0 = [C_N2O[0], (C_N2O[0]/KH)*(p/(R*T))] #inicial values from the experimental data (assuming saturation)"
   ]
  },
  {
   "cell_type": "code",
   "execution_count": 9,
   "id": "7a7fd5f0",
   "metadata": {
    "scrolled": true
   },
   "outputs": [
    {
     "data": {
      "text/plain": [
       "([0.35561013298370475, 0.5464940613913327], [0, 29])"
      ]
     },
     "execution_count": 9,
     "metadata": {},
     "output_type": "execute_result"
    }
   ],
   "source": [
    "y0, t_span"
   ]
  },
  {
   "cell_type": "markdown",
   "id": "d7a1cc0a",
   "metadata": {},
   "source": [
    "#### Definition of ODE system and cost function"
   ]
  },
  {
   "cell_type": "markdown",
   "id": "18cb61ac",
   "metadata": {},
   "source": [
    "To determine the maximum N2O consumption rate, I had to define a cost function (**`SSE`**) and then minimize it. \n",
    "<br>\n",
    "**`SSE`** receives as an input `r` and, after calculating the simulated concentrations of N2O through time, it determines the sum of squared errors between those values and the experimental data. In this way, we will minimize the \"gap\" between these different sets of values, making it possible to obtain a maximum N2O consumption rate close to reality. That is why I will use minimizing optimizers.\n",
    "<br>\n",
    "In order to calculate the simulated concentrations I used `solve_ivp` to solve the ODE that translates the simulation (based on mass balances and gas-liquid transfer equations), defined below as `N2O_sim`. \n",
    "<br>\n",
    "It's to note that, to make this possible, I had to include an extra argument in `solve_ivp` function, args = [r], since my simulation function has `r` as an extra argument, besides the time and the array with the concentration of NO2 in both phases."
   ]
  },
  {
   "cell_type": "code",
   "execution_count": 10,
   "id": "b2c1b391",
   "metadata": {},
   "outputs": [],
   "source": [
    "def N2O_sim(t, y, r):\n",
    "    '''ODE that defines the variation of N2O concentrations in each phase through time'''\n",
    "\n",
    "    C, Cg = y[0], y[1]\n",
    "    \n",
    "    CS = KH * (R*T/p) * Cg\n",
    "    rT = kLa * (CS - C)\n",
    "    dC = r + rT\n",
    "    dCg = - (VL/VG) * rT\n",
    "    \n",
    "    return [dC, dCg]"
   ]
  },
  {
   "cell_type": "markdown",
   "id": "13833f34",
   "metadata": {},
   "source": [
    "I tested different tolerances to use in `solve_ivp` but I ended up choosing to use the default values:"
   ]
  },
  {
   "cell_type": "code",
   "execution_count": 11,
   "id": "6f48f65c",
   "metadata": {},
   "outputs": [],
   "source": [
    "def SSE(r):\n",
    "    '''Function whose output is the sum of squared errors between the simulated N2O concentrations and the experimental data.'''\n",
    "    \n",
    "    errors = 0\n",
    "    \n",
    "    #To get the concentrations of N2O through time, solving N2O_sim\n",
    "    sim = solve_ivp(N2O_sim, t_span, y0, method='Radau', t_eval=time, args=[r])\n",
    "    \n",
    "    sim_N2O = sim.y[0]\n",
    "    \n",
    "    i = 0\n",
    "    for N2O in C_N2O:\n",
    "        \n",
    "        errors += (N2O - sim_N2O[i])**2\n",
    "        \n",
    "        i+=1\n",
    "    \n",
    "    return errors"
   ]
  },
  {
   "cell_type": "markdown",
   "id": "1cfb41ad",
   "metadata": {},
   "source": [
    "#### Determination of the maximum N2O consumption rate"
   ]
  },
  {
   "cell_type": "markdown",
   "id": "0ed55c66",
   "metadata": {},
   "source": [
    "Then, I minimized the `SSE` function to find the maximum `r` value (represented as x in the results obtained), using the `minimize` and `minimize_scalar` python built-in functions (while testing different methods):"
   ]
  },
  {
   "cell_type": "code",
   "execution_count": 12,
   "id": "604004af",
   "metadata": {},
   "outputs": [
    {
     "data": {
      "text/plain": [
       " final_simplex: (array([[-0.01907525],\n",
       "       [-0.01907446]]), array([0.00021922, 0.00021922]))\n",
       "           fun: 0.0002192203133886138\n",
       "       message: 'Optimization terminated successfully.'\n",
       "          nfev: 26\n",
       "           nit: 13\n",
       "        status: 0\n",
       "       success: True\n",
       "             x: array([-0.01907525])"
      ]
     },
     "execution_count": 12,
     "metadata": {},
     "output_type": "execute_result"
    }
   ],
   "source": [
    "r0 = -0.01612037210463843; TolX = 1e-6\n",
    "minimize(SSE, r0, method='Nelder-Mead', tol=TolX)"
   ]
  },
  {
   "cell_type": "code",
   "execution_count": 13,
   "id": "a6d01d99",
   "metadata": {},
   "outputs": [
    {
     "data": {
      "text/plain": [
       "     fun: 0.0002192203126243988\n",
       "     jac: array([1.76771791e-05])\n",
       " message: 'Optimization terminated successfully'\n",
       "    nfev: 8\n",
       "     nit: 2\n",
       "    njev: 2\n",
       "  status: 0\n",
       " success: True\n",
       "       x: array([-0.01907524])"
      ]
     },
     "execution_count": 13,
     "metadata": {},
     "output_type": "execute_result"
    }
   ],
   "source": [
    "minimize(SSE, r0, method='SLSQP', tol=TolX)"
   ]
  },
  {
   "cell_type": "code",
   "execution_count": 14,
   "id": "04087e57",
   "metadata": {},
   "outputs": [
    {
     "name": "stdout",
     "output_type": "stream",
     "text": [
      "x: -0.01907524248007658 , fun: 0.0002192203128019578 , nit: 5 , nfev: 9\n"
     ]
    }
   ],
   "source": [
    "res = minimize_scalar(SSE, method='brent', tol=TolX)\n",
    "print('x:', res.x, ', fun:', res.fun, ', nit:', res.nit,', nfev:', res.nfev)"
   ]
  },
  {
   "cell_type": "markdown",
   "id": "513f124e",
   "metadata": {},
   "source": [
    "With all of them I obtained the same value up to at least the 7th decimal place : `-0.0190752`. Therefore, I can assume this is the value for the maximum N2O consumption rate that I wanted to obtain.\n",
    "\n",
    "<br>\n",
    "\n",
    "Taking the results obtained into account, in a further approach, I would chose to use the 'SLSQP' method, since it was the one with the least number of iterations as well as function evaluations."
   ]
  },
  {
   "cell_type": "markdown",
   "id": "925104c4",
   "metadata": {},
   "source": [
    "Then, I plotted both the simulated data and the experimental data, using the `r` obtained:"
   ]
  },
  {
   "cell_type": "code",
   "execution_count": 15,
   "id": "aa670fc3",
   "metadata": {},
   "outputs": [],
   "source": [
    "to_plot = solve_ivp(N2O_sim, t_span, y0, method='Radau', t_eval=time, args=[-0.0190752])"
   ]
  },
  {
   "cell_type": "code",
   "execution_count": 16,
   "id": "0c63afa8",
   "metadata": {},
   "outputs": [
    {
     "data": {
      "text/plain": [
       "<matplotlib.legend.Legend at 0x1427c200160>"
      ]
     },
     "execution_count": 16,
     "metadata": {},
     "output_type": "execute_result"
    },
    {
     "data": {
      "image/png": "[encoded data removed]",
      "text/plain": [
       "<Figure size 432x288 with 1 Axes>"
      ]
     },
     "metadata": {
      "needs_background": "light"
     },
     "output_type": "display_data"
    }
   ],
   "source": [
    "plt.scatter(to_plot.t, to_plot.y[0], label = \"Simulation data\")\n",
    "plt.scatter(time, C_N2O, label = \"Experimental data\")\n",
    "    \n",
    "plt.xlabel('Time (min)')\n",
    "\n",
    "plt.ylabel('Concentration (L.mol$^{-1}$)')\n",
    " \n",
    "plt.title('Progress of the concentrations')\n",
    "    \n",
    "plt.legend()\n"
   ]
  },
  {
   "cell_type": "markdown",
   "id": "a6a1fee7",
   "metadata": {},
   "source": [
    "Indeed, the difference between the two was minimized as their points almost overlap completely."
   ]
  }
 ],
 "metadata": {
  "kernelspec": {
   "display_name": "Python 3",
   "language": "python",
   "name": "python3"
  },
  "language_info": {
   "codemirror_mode": {
    "name": "ipython",
    "version": 3
   },
   "file_extension": ".py",
   "mimetype": "text/x-python",
   "name": "python",
   "nbconvert_exporter": "python",
   "pygments_lexer": "ipython3",
   "version": "3.8.8"
  }
 },
 "nbformat": 4,
 "nbformat_minor": 5
}
