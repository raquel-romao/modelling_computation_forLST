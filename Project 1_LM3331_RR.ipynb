{
 "cells": [
  {
   "cell_type": "markdown",
   "id": "3b941120",
   "metadata": {},
   "source": [
    "\n",
    "## LM3331 INDIVIDUAL PROJECT I: Non-linear equations\n",
    "\n",
    "**TU Delft**<br>\n",
    "**Q1 2021**<br>\n",
    "**Modelling and Computation for Life Science and Technology**<br>\n",
    "\n",
    "**Done by:** Raquel Romão, student number 5629608\n",
    "\n",
    "\n",
    "---"
   ]
  },
  {
   "cell_type": "markdown",
   "id": "cba8a636",
   "metadata": {},
   "source": [
    "### Definition of the Numerical methods"
   ]
  },
  {
   "cell_type": "code",
   "execution_count": 1,
   "id": "b55bec63",
   "metadata": {},
   "outputs": [],
   "source": [
    "#to import the necessary libraries\n",
    "import numpy as np\n",
    "import scipy.misc\n",
    "import math\n",
    "import scipy.optimize\n",
    "import matplotlib.pyplot as plt"
   ]
  },
  {
   "cell_type": "code",
   "execution_count": 2,
   "id": "f909529b",
   "metadata": {},
   "outputs": [],
   "source": [
    "def newton_raphson(fc, x0, tol):\n",
    "    '''Receives a function fc (whose root will be calculated by the newton-raphson numerical method),\n",
    "    an inicial guess x and a tolerance tol.'''\n",
    "    \n",
    "    i = 0\n",
    "    x = x0\n",
    "    while abs(fc(x)) > tol:\n",
    "        \n",
    "        i += 1\n",
    "        x = x -(fc(x)/scipy.misc.derivative(f,x,tol))\n",
    "    \n",
    "    print('Aproximated value: %.7f'% x)\n",
    "    print('Number of iterations: %i'% i)"
   ]
  },
  {
   "cell_type": "code",
   "execution_count": 3,
   "id": "4b4056a0",
   "metadata": {},
   "outputs": [],
   "source": [
    "def secant(fc, x0, x1, tol):\n",
    "    '''Receives a function fc (whose root will be calculated by the secant numerical method),\n",
    "    two inicial guess x0 and x1 as well as a tolerance tol.'''\n",
    "    \n",
    "    f0 = fc(x0)\n",
    "    f1 = fc(x1)\n",
    "    i = 0\n",
    "    while abs(f1) > tol and i < 20:\n",
    "        i += 1\n",
    "        x = (x0*f1 -x1*f0)/(f1-f0)\n",
    "        x0, x1 = x1, x\n",
    "        f0 = f1\n",
    "        f1 = fc(x)\n",
    "    \n",
    "    print('Aproximated value: %.7f'% x)\n",
    "    print('Number of iterations: %i'% i)"
   ]
  },
  {
   "cell_type": "code",
   "execution_count": 4,
   "id": "d4d0513a",
   "metadata": {},
   "outputs": [],
   "source": [
    "def bisection(fc, x1, x2, tol):\n",
    "    '''Receives a function fc (whose root will be calculated by the bisection numerical method),\n",
    "    two inicial guess x0 and x1 as well as a tolerance tol.'''\n",
    "    \n",
    "    f = 1\n",
    "    f1 = fc(x1)\n",
    "    f2 = fc(x2)\n",
    "    i = 0\n",
    "    while abs(f) > tol:\n",
    "        i += 1\n",
    "        x = (x2 + x1)/2\n",
    "        f = fc(x)\n",
    "    \n",
    "        if f1*f < 0:\n",
    "            x2 = x\n",
    "            f2 = f\n",
    "        else:\n",
    "            x1 = x\n",
    "            f1 = f\n",
    "\n",
    "    print('Aproximated value: %.7f'% x)\n",
    "    print('Number of iterations: %i'% i)"
   ]
  },
  {
   "cell_type": "code",
   "execution_count": 5,
   "id": "6a82b033",
   "metadata": {},
   "outputs": [],
   "source": [
    "def regula_falsi(fc, a, b, tol):\n",
    "    '''Receives a function f (whose root will be calculated by the bisection numerical method),\n",
    "    two extremes of an interval a and b and a tolerance tol'''\n",
    "    \n",
    "    f = 1\n",
    "    fa = fc(a)\n",
    "    fb = fc(b)\n",
    "    i = 0\n",
    "    while abs(f) > tol:\n",
    "        \n",
    "        i += 1\n",
    "        x = (a*fb-b*fa)/(fb-fa)\n",
    "        f = fc(x)\n",
    "        \n",
    "        if fa*f < 0:\n",
    "            b = x\n",
    "            fb = f\n",
    "        \n",
    "        else:\n",
    "            a = x\n",
    "            fa = f\n",
    "         \n",
    "        \n",
    "    print('Aproximated value: %.7f'% x)\n",
    "    print('Number of iterations: %i'% i)"
   ]
  },
  {
   "cell_type": "markdown",
   "id": "4e9311d7",
   "metadata": {},
   "source": [
    "### DATA "
   ]
  },
  {
   "cell_type": "code",
   "execution_count": 6,
   "id": "e69f6727",
   "metadata": {},
   "outputs": [],
   "source": [
    "kw = 10**(-14)\n",
    "\n",
    "#Ka values obstained from the given pKa's\n",
    "Ka1_H3PO4 = 10**(-2.14)\n",
    "Ka2_H3PO4 = 10**(-7.20)\n",
    "Ka3_H3PO4 = 10**(-12.37)\n",
    "Ka1_InorgC = 10**(-6.35)\n",
    "Ka2_InorgC = 10**(-10.33)\n",
    "Ka_AcetA = 10**(-4.75)\n",
    "Ka_Ammon = 10**(-9.3)"
   ]
  },
  {
   "cell_type": "markdown",
   "id": "386e0826",
   "metadata": {},
   "source": [
    "Case 1"
   ]
  },
  {
   "cell_type": "code",
   "execution_count": 7,
   "id": "b6076086",
   "metadata": {},
   "outputs": [],
   "source": [
    "#data for case 1\n",
    "c_NaHCO3 = 5e-3\n",
    "c_K3PO4 = 0.001e-3\n",
    "c_AcetA = 3e-3\n",
    "c_NH4Cl = 2e-3\n",
    "c_NaOH = 2e-3"
   ]
  },
  {
   "cell_type": "markdown",
   "id": "97303771",
   "metadata": {},
   "source": [
    "Case 2"
   ]
  },
  {
   "cell_type": "code",
   "execution_count": 22,
   "id": "0319726b",
   "metadata": {},
   "outputs": [],
   "source": [
    "#data for case 2\n",
    "c_NaHCO3 = 15e-3\n",
    "c_K3PO4 = 0.1e-3\n",
    "c_AcetA = 21e-3\n",
    "c_NH4Cl = 2e-3\n",
    "c_NaOH = 22e-3"
   ]
  },
  {
   "cell_type": "markdown",
   "id": "4b1ba4c2",
   "metadata": {},
   "source": [
    "### Solution"
   ]
  },
  {
   "cell_type": "code",
   "execution_count": 23,
   "id": "c30f67ec",
   "metadata": {},
   "outputs": [],
   "source": [
    "#to inicialize one matrix to save the constants => M[component][cT,ka1,ka2,ka3]\n",
    "M=np.zeros((4, 4))\n",
    "                \n",
    "    \n",
    "#to convert pKa's to Ka's of each component and save then in the constants matrix\n",
    "M[0][1], M[0][2], M[0][3] = Ka1_H3PO4, Ka2_H3PO4, Ka3_H3PO4\n",
    "\n",
    "M[1][1], M[1][2] = Ka1_InorgC, Ka2_InorgC\n",
    "\n",
    "M[2][1] = Ka_AcetA\n",
    "\n",
    "M[3][1] = Ka_Ammon\n",
    "    \n",
    "#to save the total concentrations (cT) for each component in the matrix\n",
    "M[0][0], M[1][0], M[2][0], M[3][0] = c_K3PO4, c_NaHCO3, c_AcetA, c_NH4Cl\n",
    "\n",
    "#charges of [[H3PO4],[InorgC],[AcetA],[Ammon]] and for each component => [fully_prot, dep1, dep2, dep3]\n",
    "MC = [[0,-1,-2,-3],[0,-1,-2,0],[0,-1,0,0],[+1,0,0,0]]\n",
    "\n",
    "#matrix for extras -> [charge, concentration] for each component that contributes to the extra ions and protons\n",
    "ext=[[1, c_NaOH], [1, c_NaHCO3], [3, c_K3PO4], [-1, c_NH4Cl]]"
   ]
  },
  {
   "cell_type": "markdown",
   "id": "de2f9b9e",
   "metadata": {},
   "source": [
    "#### Function definition"
   ]
  },
  {
   "cell_type": "code",
   "execution_count": 9,
   "id": "d5bdf67c",
   "metadata": {},
   "outputs": [],
   "source": [
    "def f(pH):\n",
    "    '''Function that receives a pH value and calculates the respective sum of charges in the solution'''\n",
    "    \n",
    "    #H=concentration of protons\n",
    "    H = 10**(-pH)\n",
    "    \n",
    "    #list to save the charge contribution of each component\n",
    "    comp_list = []\n",
    "    \n",
    "    i = 0\n",
    "    for c in M:\n",
    "    \n",
    "        D = H**3 + c[1]*(H**2) + c[2]*c[1]*H + c[3]*c[2]*c[1]  #c[1]=ka1 ; c[2]=ka2 ; c[3]=ka3 for each component c\n",
    "            \n",
    "        fully_p = (c[0]*(H**3))/D \n",
    "            \n",
    "        dep1 = (c[0]*(H**2)*c[1])/D\n",
    "            \n",
    "        dep2 = (c[0]*H*c[2]*c[1])/D\n",
    "            \n",
    "        dep3 = (c[0]*c[3]*c[2]*c[1])/D\n",
    "          \n",
    "        comp_list = comp_list + [ fully_p * MC[i][0], dep1 * MC[i][1], dep2 * MC[i][2], dep3 * MC[i][3] ] # eg. MC[i][0] = charge of component i in its fully protonated form \n",
    "        \n",
    "        i+=1\n",
    "    \n",
    "    #extra ions and protons = Na+, K+, Cl-\n",
    "    extras = 0\n",
    "    for extra in ext:\n",
    "        extras = extras + extra[0]*extra[1] #extra[0]=charge; extra[1]=concentration\n",
    "            \n",
    "    sum_charges = sum(comp_list)+ extras + H - (1*kw)/H\n",
    "    \n",
    "    return sum_charges"
   ]
  },
  {
   "cell_type": "markdown",
   "id": "2bf3d5f1",
   "metadata": {},
   "source": [
    "#### Function plot\n",
    "To get a sense where is the root (what is shown is for case 1):"
   ]
  },
  {
   "cell_type": "code",
   "execution_count": 13,
   "id": "c6a4dd08",
   "metadata": {},
   "outputs": [
    {
     "data": {
      "image/png": "[encoded data removed]",
      "text/plain": [
       "<Figure size 1080x360 with 2 Axes>"
      ]
     },
     "metadata": {
      "needs_background": "light"
     },
     "output_type": "display_data"
    }
   ],
   "source": [
    "fig, ax = plt.subplots(1,2, figsize=(15,5))\n",
    "\n",
    "pH_values1 = np.linspace(0,14,1000)\n",
    "\n",
    "sum_values = []\n",
    "for pH in pH_values1:\n",
    "    \n",
    "    sum_values = sum_values + [f(pH)]\n",
    "    \n",
    "ax[0].plot(pH_values1,sum_values, 'g')\n",
    "\n",
    "ax[0].set_xlabel(\"pH\")\n",
    "ax[0].set_ylabel(\"Sum of charges\")\n",
    "\n",
    "ax[0].set_title(\"Function plot\")\n",
    "\n",
    "\n",
    "#set of a smaller pH value to get a better sense where is the root\n",
    "pH_values2 = np.linspace(6,8,1000)\n",
    "\n",
    "sum_values = []\n",
    "for pH in pH_values2:\n",
    "    \n",
    "    sum_values = sum_values + [f(pH)]\n",
    "    \n",
    "ax[1].plot(pH_values2,sum_values, 'b')\n",
    "\n",
    "ax[1].set_xlabel(\"pH\")\n",
    "ax[1].set_ylabel(\"Sum of charges\")\n",
    "\n",
    "ax[1].set_title(\"Function plot: smaller pH interval\")\n",
    "\n",
    "\n",
    "plt.show()"
   ]
  },
  {
   "cell_type": "markdown",
   "id": "984ff196",
   "metadata": {},
   "source": [
    "#### Solution evaluation using the numerical methods built on my own"
   ]
  },
  {
   "cell_type": "markdown",
   "id": "7e7d64dc",
   "metadata": {},
   "source": [
    "* Case 1:"
   ]
  },
  {
   "cell_type": "code",
   "execution_count": 14,
   "id": "37043e3d",
   "metadata": {},
   "outputs": [
    {
     "name": "stdout",
     "output_type": "stream",
     "text": [
      "Aproximated value: 6.9570139\n",
      "Number of iterations: 18\n"
     ]
    }
   ],
   "source": [
    "newton_raphson(f, 7, 10**(-15))"
   ]
  },
  {
   "cell_type": "code",
   "execution_count": 15,
   "id": "18b52edb",
   "metadata": {
    "scrolled": true
   },
   "outputs": [
    {
     "name": "stdout",
     "output_type": "stream",
     "text": [
      "Aproximated value: 6.9570139\n",
      "Number of iterations: 14\n"
     ]
    }
   ],
   "source": [
    "secant(f, 1, 14, 10**(-15))"
   ]
  },
  {
   "cell_type": "code",
   "execution_count": 16,
   "id": "d84f201f",
   "metadata": {
    "scrolled": true
   },
   "outputs": [
    {
     "name": "stdout",
     "output_type": "stream",
     "text": [
      "Aproximated value: 6.9570139\n",
      "Number of iterations: 44\n"
     ]
    }
   ],
   "source": [
    "bisection(f, 1, 14, 10**(-15))"
   ]
  },
  {
   "cell_type": "code",
   "execution_count": 17,
   "id": "6eea101c",
   "metadata": {},
   "outputs": [
    {
     "name": "stdout",
     "output_type": "stream",
     "text": [
      "Aproximated value: 6.9570139\n",
      "Number of iterations: 2143\n"
     ]
    }
   ],
   "source": [
    "regula_falsi(f, 1, 14, 10**(-15)) "
   ]
  },
  {
   "cell_type": "markdown",
   "id": "02aa2e80",
   "metadata": {},
   "source": [
    "* Case 2:"
   ]
  },
  {
   "cell_type": "code",
   "execution_count": 24,
   "id": "8b194615",
   "metadata": {},
   "outputs": [
    {
     "name": "stdout",
     "output_type": "stream",
     "text": [
      "Aproximated value: 8.9135047\n",
      "Number of iterations: 10\n"
     ]
    }
   ],
   "source": [
    "newton_raphson(f, 7, 10**(-14))"
   ]
  },
  {
   "cell_type": "code",
   "execution_count": 25,
   "id": "6262559f",
   "metadata": {},
   "outputs": [
    {
     "name": "stdout",
     "output_type": "stream",
     "text": [
      "Aproximated value: 8.9135047\n",
      "Number of iterations: 10\n"
     ]
    }
   ],
   "source": [
    "secant(f, 1, 14, 10**(-14))"
   ]
  },
  {
   "cell_type": "code",
   "execution_count": 26,
   "id": "5f0fda0e",
   "metadata": {},
   "outputs": [
    {
     "name": "stdout",
     "output_type": "stream",
     "text": [
      "Aproximated value: 8.9135047\n",
      "Number of iterations: 40\n"
     ]
    }
   ],
   "source": [
    "bisection(f, 1, 14, 10**(-14))"
   ]
  },
  {
   "cell_type": "code",
   "execution_count": 27,
   "id": "6bc7b4b4",
   "metadata": {},
   "outputs": [
    {
     "name": "stdout",
     "output_type": "stream",
     "text": [
      "Aproximated value: 8.9135047\n",
      "Number of iterations: 2404\n"
     ]
    }
   ],
   "source": [
    "regula_falsi(f, 1, 14, 10**(-14)) "
   ]
  },
  {
   "cell_type": "markdown",
   "id": "f8df1051",
   "metadata": {},
   "source": [
    "#### Solution evaluation using built-in python numerical methods functions"
   ]
  },
  {
   "cell_type": "markdown",
   "id": "d859551e",
   "metadata": {},
   "source": [
    "* Case 1:"
   ]
  },
  {
   "cell_type": "code",
   "execution_count": 18,
   "id": "18df2340",
   "metadata": {
    "scrolled": true
   },
   "outputs": [
    {
     "data": {
      "text/plain": [
       "(6.957013911271399,\n",
       "       converged: True\n",
       "            flag: 'converged'\n",
       "  function_calls: 7\n",
       "      iterations: 6\n",
       "            root: 6.957013911271399)"
      ]
     },
     "execution_count": 18,
     "metadata": {},
     "output_type": "execute_result"
    }
   ],
   "source": [
    "scipy.optimize.newton(f, 7, tol=10**(-15), full_output=True)"
   ]
  },
  {
   "cell_type": "code",
   "execution_count": 19,
   "id": "1c1cfdfe",
   "metadata": {},
   "outputs": [
    {
     "data": {
      "text/plain": [
       "      converged: True\n",
       "           flag: 'converged'\n",
       " function_calls: 16\n",
       "     iterations: 15\n",
       "           root: 6.957013911271398"
      ]
     },
     "execution_count": 19,
     "metadata": {},
     "output_type": "execute_result"
    }
   ],
   "source": [
    "scipy.optimize.root_scalar(f, method='secant', x0=1, x1=14, xtol=10**(-15))"
   ]
  },
  {
   "cell_type": "code",
   "execution_count": 20,
   "id": "41c7191a",
   "metadata": {},
   "outputs": [
    {
     "data": {
      "text/plain": [
       "(6.957013911271401,\n",
       "       converged: True\n",
       "            flag: 'converged'\n",
       "  function_calls: 53\n",
       "      iterations: 51\n",
       "            root: 6.957013911271401)"
      ]
     },
     "execution_count": 20,
     "metadata": {},
     "output_type": "execute_result"
    }
   ],
   "source": [
    "scipy.optimize.bisect(f, 1, 14, xtol=10**(-15), full_output=True)"
   ]
  },
  {
   "cell_type": "code",
   "execution_count": 21,
   "id": "837baa9c",
   "metadata": {},
   "outputs": [
    {
     "data": {
      "text/plain": [
       "(6.957013911271397,\n",
       "       converged: True\n",
       "            flag: 'converged'\n",
       "  function_calls: 15\n",
       "      iterations: 14\n",
       "            root: 6.957013911271397)"
      ]
     },
     "execution_count": 21,
     "metadata": {},
     "output_type": "execute_result"
    }
   ],
   "source": [
    "scipy.optimize.brentq(f, 1, 14, xtol=10**(-14), full_output=True)"
   ]
  },
  {
   "cell_type": "markdown",
   "id": "b6131d19",
   "metadata": {},
   "source": [
    "* Case 2:"
   ]
  },
  {
   "cell_type": "code",
   "execution_count": 28,
   "id": "627e5696",
   "metadata": {},
   "outputs": [
    {
     "data": {
      "text/plain": [
       "(8.913504653094387,\n",
       "       converged: True\n",
       "            flag: 'converged'\n",
       "  function_calls: 7\n",
       "      iterations: 6\n",
       "            root: 8.913504653094387)"
      ]
     },
     "execution_count": 28,
     "metadata": {},
     "output_type": "execute_result"
    }
   ],
   "source": [
    "scipy.optimize.newton(f, 9, tol=10**(-14), full_output=True)"
   ]
  },
  {
   "cell_type": "code",
   "execution_count": 29,
   "id": "05635125",
   "metadata": {},
   "outputs": [
    {
     "data": {
      "text/plain": [
       "      converged: True\n",
       "           flag: 'converged'\n",
       " function_calls: 12\n",
       "     iterations: 11\n",
       "           root: 8.913504653094392"
      ]
     },
     "execution_count": 29,
     "metadata": {},
     "output_type": "execute_result"
    }
   ],
   "source": [
    "scipy.optimize.root_scalar(f, method='secant', x0=1, x1=14, xtol=10**(-14))"
   ]
  },
  {
   "cell_type": "code",
   "execution_count": 30,
   "id": "34c59a30",
   "metadata": {},
   "outputs": [
    {
     "data": {
      "text/plain": [
       "(8.913504653094382,\n",
       "       converged: True\n",
       "            flag: 'converged'\n",
       "  function_calls: 52\n",
       "      iterations: 50\n",
       "            root: 8.913504653094382)"
      ]
     },
     "execution_count": 30,
     "metadata": {},
     "output_type": "execute_result"
    }
   ],
   "source": [
    "scipy.optimize.bisect(f, 1, 14, xtol=10**(-14), full_output=True)"
   ]
  },
  {
   "cell_type": "code",
   "execution_count": 31,
   "id": "df3e7bdc",
   "metadata": {},
   "outputs": [
    {
     "data": {
      "text/plain": [
       "(8.913504653094387,\n",
       "       converged: True\n",
       "            flag: 'converged'\n",
       "  function_calls: 13\n",
       "      iterations: 12\n",
       "            root: 8.913504653094387)"
      ]
     },
     "execution_count": 31,
     "metadata": {},
     "output_type": "execute_result"
    }
   ],
   "source": [
    "scipy.optimize.brentq(f, 1, 14, xtol=10**(-14), full_output=True)"
   ]
  }
 ],
 "metadata": {
  "kernelspec": {
   "display_name": "Python 3",
   "language": "python",
   "name": "python3"
  },
  "language_info": {
   "codemirror_mode": {
    "name": "ipython",
    "version": 3
   },
   "file_extension": ".py",
   "mimetype": "text/x-python",
   "name": "python",
   "nbconvert_exporter": "python",
   "pygments_lexer": "ipython3",
   "version": "3.8.8"
  }
 },
 "nbformat": 4,
 "nbformat_minor": 5
}
